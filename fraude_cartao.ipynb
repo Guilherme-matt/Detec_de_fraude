{
 "cells": [
  {
   "cell_type": "code",
   "execution_count": 2,
   "metadata": {},
   "outputs": [],
   "source": [
    "import pandas as pd \n",
    "import numpy as np\n",
    "import matplotlib.pyplot as plt\n",
    "import seaborn as sns\n",
    "from sklearn import *\n",
    "from sklearn.preprocessing import StandardScaler, MinMaxScaler\n",
    "from sklearn.metrics import accuracy_score, confusion_matrix, precision_score\n",
    "from sklearn.model_selection import train_test_split\n",
    "from sklearn.tree import DecisionTreeClassifier\n",
    "from sklearn.ensemble import RandomForestClassifier\n",
    "import tensorflow as tf\n",
    "from keras.models import Model, Sequential, load_model\n",
    "from keras.layers import Dense, Input , Dropout\n",
    "from keras.callbacks import ModelCheckpoint, TensorBoard, EarlyStopping\n",
    "from keras import regularizers\n",
    "LABELS = [\"Normal\", \"Fraud\"]"
   ]
  },
  {
   "cell_type": "markdown",
   "metadata": {},
   "source": [
    "# Detecção de Fraudes\n",
    "Usei aqui nesse pequeno projeto o [Dataset do Kaggle](https://www.kaggle.com/datasets/mlg-ulb/creditcardfraud) para detecção de fraude. Aqui decidi usar 3 tipos de detectores: Uma Árvore de Decisão, uma Floresta Aleatória e um Autoencoder. Vamos ver qual desses três tem um melhor desempenho! "
   ]
  },
  {
   "cell_type": "code",
   "execution_count": 2,
   "metadata": {},
   "outputs": [
    {
     "data": {
      "text/html": [
       "<div>\n",
       "<style scoped>\n",
       "    .dataframe tbody tr th:only-of-type {\n",
       "        vertical-align: middle;\n",
       "    }\n",
       "\n",
       "    .dataframe tbody tr th {\n",
       "        vertical-align: top;\n",
       "    }\n",
       "\n",
       "    .dataframe thead th {\n",
       "        text-align: right;\n",
       "    }\n",
       "</style>\n",
       "<table border=\"1\" class=\"dataframe\">\n",
       "  <thead>\n",
       "    <tr style=\"text-align: right;\">\n",
       "      <th></th>\n",
       "      <th>Time</th>\n",
       "      <th>V1</th>\n",
       "      <th>V2</th>\n",
       "      <th>V3</th>\n",
       "      <th>V4</th>\n",
       "      <th>V5</th>\n",
       "      <th>V6</th>\n",
       "      <th>V7</th>\n",
       "      <th>V8</th>\n",
       "      <th>V9</th>\n",
       "      <th>...</th>\n",
       "      <th>V21</th>\n",
       "      <th>V22</th>\n",
       "      <th>V23</th>\n",
       "      <th>V24</th>\n",
       "      <th>V25</th>\n",
       "      <th>V26</th>\n",
       "      <th>V27</th>\n",
       "      <th>V28</th>\n",
       "      <th>Amount</th>\n",
       "      <th>Class</th>\n",
       "    </tr>\n",
       "  </thead>\n",
       "  <tbody>\n",
       "    <tr>\n",
       "      <th>0</th>\n",
       "      <td>0.0</td>\n",
       "      <td>-1.359807</td>\n",
       "      <td>-0.072781</td>\n",
       "      <td>2.536347</td>\n",
       "      <td>1.378155</td>\n",
       "      <td>-0.338321</td>\n",
       "      <td>0.462388</td>\n",
       "      <td>0.239599</td>\n",
       "      <td>0.098698</td>\n",
       "      <td>0.363787</td>\n",
       "      <td>...</td>\n",
       "      <td>-0.018307</td>\n",
       "      <td>0.277838</td>\n",
       "      <td>-0.110474</td>\n",
       "      <td>0.066928</td>\n",
       "      <td>0.128539</td>\n",
       "      <td>-0.189115</td>\n",
       "      <td>0.133558</td>\n",
       "      <td>-0.021053</td>\n",
       "      <td>149.62</td>\n",
       "      <td>0</td>\n",
       "    </tr>\n",
       "    <tr>\n",
       "      <th>1</th>\n",
       "      <td>0.0</td>\n",
       "      <td>1.191857</td>\n",
       "      <td>0.266151</td>\n",
       "      <td>0.166480</td>\n",
       "      <td>0.448154</td>\n",
       "      <td>0.060018</td>\n",
       "      <td>-0.082361</td>\n",
       "      <td>-0.078803</td>\n",
       "      <td>0.085102</td>\n",
       "      <td>-0.255425</td>\n",
       "      <td>...</td>\n",
       "      <td>-0.225775</td>\n",
       "      <td>-0.638672</td>\n",
       "      <td>0.101288</td>\n",
       "      <td>-0.339846</td>\n",
       "      <td>0.167170</td>\n",
       "      <td>0.125895</td>\n",
       "      <td>-0.008983</td>\n",
       "      <td>0.014724</td>\n",
       "      <td>2.69</td>\n",
       "      <td>0</td>\n",
       "    </tr>\n",
       "    <tr>\n",
       "      <th>2</th>\n",
       "      <td>1.0</td>\n",
       "      <td>-1.358354</td>\n",
       "      <td>-1.340163</td>\n",
       "      <td>1.773209</td>\n",
       "      <td>0.379780</td>\n",
       "      <td>-0.503198</td>\n",
       "      <td>1.800499</td>\n",
       "      <td>0.791461</td>\n",
       "      <td>0.247676</td>\n",
       "      <td>-1.514654</td>\n",
       "      <td>...</td>\n",
       "      <td>0.247998</td>\n",
       "      <td>0.771679</td>\n",
       "      <td>0.909412</td>\n",
       "      <td>-0.689281</td>\n",
       "      <td>-0.327642</td>\n",
       "      <td>-0.139097</td>\n",
       "      <td>-0.055353</td>\n",
       "      <td>-0.059752</td>\n",
       "      <td>378.66</td>\n",
       "      <td>0</td>\n",
       "    </tr>\n",
       "    <tr>\n",
       "      <th>3</th>\n",
       "      <td>1.0</td>\n",
       "      <td>-0.966272</td>\n",
       "      <td>-0.185226</td>\n",
       "      <td>1.792993</td>\n",
       "      <td>-0.863291</td>\n",
       "      <td>-0.010309</td>\n",
       "      <td>1.247203</td>\n",
       "      <td>0.237609</td>\n",
       "      <td>0.377436</td>\n",
       "      <td>-1.387024</td>\n",
       "      <td>...</td>\n",
       "      <td>-0.108300</td>\n",
       "      <td>0.005274</td>\n",
       "      <td>-0.190321</td>\n",
       "      <td>-1.175575</td>\n",
       "      <td>0.647376</td>\n",
       "      <td>-0.221929</td>\n",
       "      <td>0.062723</td>\n",
       "      <td>0.061458</td>\n",
       "      <td>123.50</td>\n",
       "      <td>0</td>\n",
       "    </tr>\n",
       "    <tr>\n",
       "      <th>4</th>\n",
       "      <td>2.0</td>\n",
       "      <td>-1.158233</td>\n",
       "      <td>0.877737</td>\n",
       "      <td>1.548718</td>\n",
       "      <td>0.403034</td>\n",
       "      <td>-0.407193</td>\n",
       "      <td>0.095921</td>\n",
       "      <td>0.592941</td>\n",
       "      <td>-0.270533</td>\n",
       "      <td>0.817739</td>\n",
       "      <td>...</td>\n",
       "      <td>-0.009431</td>\n",
       "      <td>0.798278</td>\n",
       "      <td>-0.137458</td>\n",
       "      <td>0.141267</td>\n",
       "      <td>-0.206010</td>\n",
       "      <td>0.502292</td>\n",
       "      <td>0.219422</td>\n",
       "      <td>0.215153</td>\n",
       "      <td>69.99</td>\n",
       "      <td>0</td>\n",
       "    </tr>\n",
       "  </tbody>\n",
       "</table>\n",
       "<p>5 rows × 31 columns</p>\n",
       "</div>"
      ],
      "text/plain": [
       "   Time        V1        V2        V3        V4        V5        V6        V7  \\\n",
       "0   0.0 -1.359807 -0.072781  2.536347  1.378155 -0.338321  0.462388  0.239599   \n",
       "1   0.0  1.191857  0.266151  0.166480  0.448154  0.060018 -0.082361 -0.078803   \n",
       "2   1.0 -1.358354 -1.340163  1.773209  0.379780 -0.503198  1.800499  0.791461   \n",
       "3   1.0 -0.966272 -0.185226  1.792993 -0.863291 -0.010309  1.247203  0.237609   \n",
       "4   2.0 -1.158233  0.877737  1.548718  0.403034 -0.407193  0.095921  0.592941   \n",
       "\n",
       "         V8        V9  ...       V21       V22       V23       V24       V25  \\\n",
       "0  0.098698  0.363787  ... -0.018307  0.277838 -0.110474  0.066928  0.128539   \n",
       "1  0.085102 -0.255425  ... -0.225775 -0.638672  0.101288 -0.339846  0.167170   \n",
       "2  0.247676 -1.514654  ...  0.247998  0.771679  0.909412 -0.689281 -0.327642   \n",
       "3  0.377436 -1.387024  ... -0.108300  0.005274 -0.190321 -1.175575  0.647376   \n",
       "4 -0.270533  0.817739  ... -0.009431  0.798278 -0.137458  0.141267 -0.206010   \n",
       "\n",
       "        V26       V27       V28  Amount  Class  \n",
       "0 -0.189115  0.133558 -0.021053  149.62      0  \n",
       "1  0.125895 -0.008983  0.014724    2.69      0  \n",
       "2 -0.139097 -0.055353 -0.059752  378.66      0  \n",
       "3 -0.221929  0.062723  0.061458  123.50      0  \n",
       "4  0.502292  0.219422  0.215153   69.99      0  \n",
       "\n",
       "[5 rows x 31 columns]"
      ]
     },
     "execution_count": 2,
     "metadata": {},
     "output_type": "execute_result"
    }
   ],
   "source": [
    "df = pd.read_csv(\"..\\Fraude_cartão_de_crédito\\creditcard.csv\")\n",
    "df.head()"
   ]
  },
  {
   "cell_type": "markdown",
   "metadata": {},
   "source": [
    "Dividindo em duas classes para fazermos uma pequena análise de dois features: O *Montante de dinheiro* em cada transação e o *tempo*"
   ]
  },
  {
   "cell_type": "code",
   "execution_count": 3,
   "metadata": {},
   "outputs": [],
   "source": [
    "fraudes = df[df.Class == 1]\n",
    "normal = df[df.Class == 0]"
   ]
  },
  {
   "cell_type": "markdown",
   "metadata": {},
   "source": [
    "O montante tem uma forte influência nos dados. Vamos manter ele no data set! "
   ]
  },
  {
   "cell_type": "code",
   "execution_count": 4,
   "metadata": {},
   "outputs": [
    {
     "data": {
      "image/png": "[encoded data removed]",
      "text/plain": [
       "<Figure size 432x288 with 2 Axes>"
      ]
     },
     "metadata": {
      "needs_background": "light"
     },
     "output_type": "display_data"
    }
   ],
   "source": [
    "f, (ax1, ax2) = plt.subplots(2, 1, sharex=True)\n",
    "f.suptitle('Montante em transações por classe')\n",
    "bins = 50\n",
    "ax1.hist(fraudes.Amount, bins = bins)\n",
    "ax1.set_title('Fraude')\n",
    "ax2.hist(normal.Amount, bins = bins)\n",
    "ax2.set_title('Normal')\n",
    "plt.xlabel('Montante ($)')\n",
    "plt.ylabel('Montante por Transações')\n",
    "plt.xlim((0, 20000))\n",
    "plt.yscale('log')\n",
    "plt.show();"
   ]
  },
  {
   "cell_type": "markdown",
   "metadata": {},
   "source": [
    "Aqui, percebemos que o tempo influencia as fraudes, por esse motivo, podemos dropalo da base de dados"
   ]
  },
  {
   "cell_type": "code",
   "execution_count": 5,
   "metadata": {},
   "outputs": [
    {
     "data": {
      "image/png": "[encoded data removed]",
      "text/plain": [
       "<Figure size 432x288 with 2 Axes>"
      ]
     },
     "metadata": {
      "needs_background": "light"
     },
     "output_type": "display_data"
    }
   ],
   "source": [
    "f, (ax1, ax2) = plt.subplots(2, 1, sharex=True)\n",
    "f.suptitle('Tempo da tansação X montante por classe')\n",
    "ax1.scatter(fraudes.Time, fraudes.Amount)\n",
    "ax1.set_title('Fraude')\n",
    "ax2.scatter(normal.Time, normal.Amount)\n",
    "ax2.set_title('Normal')\n",
    "plt.xlabel('Tempo (em segundos)')\n",
    "plt.ylabel('Montante')\n",
    "plt.show()"
   ]
  },
  {
   "cell_type": "code",
   "execution_count": 6,
   "metadata": {},
   "outputs": [],
   "source": [
    "df = df.drop([\"Time\"], axis=1)"
   ]
  },
  {
   "cell_type": "markdown",
   "metadata": {},
   "source": [
    "Separando os dados para treino e teste de ambas Árvore de Decisão e Floresta Aleatória"
   ]
  },
  {
   "cell_type": "code",
   "execution_count": 7,
   "metadata": {},
   "outputs": [
    {
     "data": {
      "text/html": [
       "<div>\n",
       "<style scoped>\n",
       "    .dataframe tbody tr th:only-of-type {\n",
       "        vertical-align: middle;\n",
       "    }\n",
       "\n",
       "    .dataframe tbody tr th {\n",
       "        vertical-align: top;\n",
       "    }\n",
       "\n",
       "    .dataframe thead th {\n",
       "        text-align: right;\n",
       "    }\n",
       "</style>\n",
       "<table border=\"1\" class=\"dataframe\">\n",
       "  <thead>\n",
       "    <tr style=\"text-align: right;\">\n",
       "      <th></th>\n",
       "      <th>V1</th>\n",
       "      <th>V2</th>\n",
       "      <th>V3</th>\n",
       "      <th>V4</th>\n",
       "      <th>V5</th>\n",
       "      <th>V6</th>\n",
       "      <th>V7</th>\n",
       "      <th>V8</th>\n",
       "      <th>V9</th>\n",
       "      <th>V10</th>\n",
       "      <th>...</th>\n",
       "      <th>V20</th>\n",
       "      <th>V21</th>\n",
       "      <th>V22</th>\n",
       "      <th>V23</th>\n",
       "      <th>V24</th>\n",
       "      <th>V25</th>\n",
       "      <th>V26</th>\n",
       "      <th>V27</th>\n",
       "      <th>V28</th>\n",
       "      <th>Amount</th>\n",
       "    </tr>\n",
       "  </thead>\n",
       "  <tbody>\n",
       "    <tr>\n",
       "      <th>0</th>\n",
       "      <td>-1.359807</td>\n",
       "      <td>-0.072781</td>\n",
       "      <td>2.536347</td>\n",
       "      <td>1.378155</td>\n",
       "      <td>-0.338321</td>\n",
       "      <td>0.462388</td>\n",
       "      <td>0.239599</td>\n",
       "      <td>0.098698</td>\n",
       "      <td>0.363787</td>\n",
       "      <td>0.090794</td>\n",
       "      <td>...</td>\n",
       "      <td>0.251412</td>\n",
       "      <td>-0.018307</td>\n",
       "      <td>0.277838</td>\n",
       "      <td>-0.110474</td>\n",
       "      <td>0.066928</td>\n",
       "      <td>0.128539</td>\n",
       "      <td>-0.189115</td>\n",
       "      <td>0.133558</td>\n",
       "      <td>-0.021053</td>\n",
       "      <td>149.62</td>\n",
       "    </tr>\n",
       "    <tr>\n",
       "      <th>1</th>\n",
       "      <td>1.191857</td>\n",
       "      <td>0.266151</td>\n",
       "      <td>0.166480</td>\n",
       "      <td>0.448154</td>\n",
       "      <td>0.060018</td>\n",
       "      <td>-0.082361</td>\n",
       "      <td>-0.078803</td>\n",
       "      <td>0.085102</td>\n",
       "      <td>-0.255425</td>\n",
       "      <td>-0.166974</td>\n",
       "      <td>...</td>\n",
       "      <td>-0.069083</td>\n",
       "      <td>-0.225775</td>\n",
       "      <td>-0.638672</td>\n",
       "      <td>0.101288</td>\n",
       "      <td>-0.339846</td>\n",
       "      <td>0.167170</td>\n",
       "      <td>0.125895</td>\n",
       "      <td>-0.008983</td>\n",
       "      <td>0.014724</td>\n",
       "      <td>2.69</td>\n",
       "    </tr>\n",
       "    <tr>\n",
       "      <th>2</th>\n",
       "      <td>-1.358354</td>\n",
       "      <td>-1.340163</td>\n",
       "      <td>1.773209</td>\n",
       "      <td>0.379780</td>\n",
       "      <td>-0.503198</td>\n",
       "      <td>1.800499</td>\n",
       "      <td>0.791461</td>\n",
       "      <td>0.247676</td>\n",
       "      <td>-1.514654</td>\n",
       "      <td>0.207643</td>\n",
       "      <td>...</td>\n",
       "      <td>0.524980</td>\n",
       "      <td>0.247998</td>\n",
       "      <td>0.771679</td>\n",
       "      <td>0.909412</td>\n",
       "      <td>-0.689281</td>\n",
       "      <td>-0.327642</td>\n",
       "      <td>-0.139097</td>\n",
       "      <td>-0.055353</td>\n",
       "      <td>-0.059752</td>\n",
       "      <td>378.66</td>\n",
       "    </tr>\n",
       "    <tr>\n",
       "      <th>3</th>\n",
       "      <td>-0.966272</td>\n",
       "      <td>-0.185226</td>\n",
       "      <td>1.792993</td>\n",
       "      <td>-0.863291</td>\n",
       "      <td>-0.010309</td>\n",
       "      <td>1.247203</td>\n",
       "      <td>0.237609</td>\n",
       "      <td>0.377436</td>\n",
       "      <td>-1.387024</td>\n",
       "      <td>-0.054952</td>\n",
       "      <td>...</td>\n",
       "      <td>-0.208038</td>\n",
       "      <td>-0.108300</td>\n",
       "      <td>0.005274</td>\n",
       "      <td>-0.190321</td>\n",
       "      <td>-1.175575</td>\n",
       "      <td>0.647376</td>\n",
       "      <td>-0.221929</td>\n",
       "      <td>0.062723</td>\n",
       "      <td>0.061458</td>\n",
       "      <td>123.50</td>\n",
       "    </tr>\n",
       "    <tr>\n",
       "      <th>4</th>\n",
       "      <td>-1.158233</td>\n",
       "      <td>0.877737</td>\n",
       "      <td>1.548718</td>\n",
       "      <td>0.403034</td>\n",
       "      <td>-0.407193</td>\n",
       "      <td>0.095921</td>\n",
       "      <td>0.592941</td>\n",
       "      <td>-0.270533</td>\n",
       "      <td>0.817739</td>\n",
       "      <td>0.753074</td>\n",
       "      <td>...</td>\n",
       "      <td>0.408542</td>\n",
       "      <td>-0.009431</td>\n",
       "      <td>0.798278</td>\n",
       "      <td>-0.137458</td>\n",
       "      <td>0.141267</td>\n",
       "      <td>-0.206010</td>\n",
       "      <td>0.502292</td>\n",
       "      <td>0.219422</td>\n",
       "      <td>0.215153</td>\n",
       "      <td>69.99</td>\n",
       "    </tr>\n",
       "  </tbody>\n",
       "</table>\n",
       "<p>5 rows × 29 columns</p>\n",
       "</div>"
      ],
      "text/plain": [
       "         V1        V2        V3        V4        V5        V6        V7  \\\n",
       "0 -1.359807 -0.072781  2.536347  1.378155 -0.338321  0.462388  0.239599   \n",
       "1  1.191857  0.266151  0.166480  0.448154  0.060018 -0.082361 -0.078803   \n",
       "2 -1.358354 -1.340163  1.773209  0.379780 -0.503198  1.800499  0.791461   \n",
       "3 -0.966272 -0.185226  1.792993 -0.863291 -0.010309  1.247203  0.237609   \n",
       "4 -1.158233  0.877737  1.548718  0.403034 -0.407193  0.095921  0.592941   \n",
       "\n",
       "         V8        V9       V10  ...       V20       V21       V22       V23  \\\n",
       "0  0.098698  0.363787  0.090794  ...  0.251412 -0.018307  0.277838 -0.110474   \n",
       "1  0.085102 -0.255425 -0.166974  ... -0.069083 -0.225775 -0.638672  0.101288   \n",
       "2  0.247676 -1.514654  0.207643  ...  0.524980  0.247998  0.771679  0.909412   \n",
       "3  0.377436 -1.387024 -0.054952  ... -0.208038 -0.108300  0.005274 -0.190321   \n",
       "4 -0.270533  0.817739  0.753074  ...  0.408542 -0.009431  0.798278 -0.137458   \n",
       "\n",
       "        V24       V25       V26       V27       V28  Amount  \n",
       "0  0.066928  0.128539 -0.189115  0.133558 -0.021053  149.62  \n",
       "1 -0.339846  0.167170  0.125895 -0.008983  0.014724    2.69  \n",
       "2 -0.689281 -0.327642 -0.139097 -0.055353 -0.059752  378.66  \n",
       "3 -1.175575  0.647376 -0.221929  0.062723  0.061458  123.50  \n",
       "4  0.141267 -0.206010  0.502292  0.219422  0.215153   69.99  \n",
       "\n",
       "[5 rows x 29 columns]"
      ]
     },
     "execution_count": 7,
     "metadata": {},
     "output_type": "execute_result"
    }
   ],
   "source": [
    "X = df.drop(['Class'], axis=1)\n",
    "y = df['Class']\n",
    "X_train, X_test , y_train, y_test= train_test_split(X, y, test_size=0.3,random_state=300)\n",
    "X.head()"
   ]
  },
  {
   "cell_type": "markdown",
   "metadata": {},
   "source": [
    "Criei uma função que mostra a métrica de cada modelo, para deixar o código o mais limpo possível"
   ]
  },
  {
   "cell_type": "code",
   "execution_count": 8,
   "metadata": {},
   "outputs": [],
   "source": [
    "def mostra_metricas(y_true, y_pred):\n",
    "  \n",
    "  print(\"Accuracy: \", accuracy_score(y_true, y_pred))\n",
    "  print(\"\\nPrecission:\", precision_score(y_true, y_pred))\n",
    "  print(\"\\nConfusion Matrix:\")\n",
    "  sns.heatmap(confusion_matrix(y_true, y_pred), annot=True)\n",
    "  plt.show()"
   ]
  },
  {
   "cell_type": "markdown",
   "metadata": {},
   "source": [
    "* Árvore de Decisão"
   ]
  },
  {
   "cell_type": "code",
   "execution_count": 9,
   "metadata": {},
   "outputs": [
    {
     "name": "stdout",
     "output_type": "stream",
     "text": [
      "Accuracy:  0.999204147794436\n",
      "\n",
      "Precission: 0.7639751552795031\n",
      "\n",
      "Confusion Matrix:\n"
     ]
    },
    {
     "data": {
      "image/png": "[encoded data removed]",
      "text/plain": [
       "<Figure size 432x288 with 2 Axes>"
      ]
     },
     "metadata": {
      "needs_background": "light"
     },
     "output_type": "display_data"
    }
   ],
   "source": [
    "dtc = DecisionTreeClassifier()\n",
    "dtc.fit(X_train,y_train)\n",
    "dtc_pred = dtc.predict(X_test)\n",
    "mostra_metricas(y_test,dtc_pred)"
   ]
  },
  {
   "cell_type": "markdown",
   "metadata": {},
   "source": [
    "* Floresta Aleatória"
   ]
  },
  {
   "cell_type": "code",
   "execution_count": 10,
   "metadata": {},
   "outputs": [
    {
     "name": "stdout",
     "output_type": "stream",
     "text": [
      "Accuracy:  0.9995435553526912\n",
      "\n",
      "Precission: 0.9523809523809523\n",
      "\n",
      "Confusion Matrix:\n"
     ]
    },
    {
     "data": {
      "image/png": "[encoded data removed]",
      "text/plain": [
       "<Figure size 432x288 with 2 Axes>"
      ]
     },
     "metadata": {
      "needs_background": "light"
     },
     "output_type": "display_data"
    }
   ],
   "source": [
    "rfc = RandomForestClassifier(n_estimators=10)\n",
    "rfc.fit(X_train,y_train)\n",
    "rfc_pred = rfc.predict(X_test)\n",
    "mostra_metricas(y_test, rfc_pred)"
   ]
  },
  {
   "cell_type": "markdown",
   "metadata": {},
   "source": [
    "Para o *Autoencoder* vamos padronizar em escala de -1 até 1 a coluna \"Amount\" "
   ]
  },
  {
   "cell_type": "code",
   "execution_count": 11,
   "metadata": {},
   "outputs": [],
   "source": [
    "fraudes = df[df.Class == 1]\n",
    "normal = df[df.Class == 0]\n",
    "df['Amount'] = StandardScaler().fit_transform(df['Amount'].values.reshape(-1, 1))\n",
    "X_train, X_test = train_test_split(df, test_size=0.4, random_state=2000)\n",
    "X_train = X_train[X_train.Class == 0]\n",
    "X_train = X_train.drop(['Class'], axis=1)\n",
    "y_test = X_test['Class']\n",
    "X_test = X_test.drop(['Class'], axis=1)\n",
    "X_train = X_train.values\n",
    "X_test = X_test.values\n"
   ]
  },
  {
   "cell_type": "markdown",
   "metadata": {},
   "source": [
    "* #### O Autoencoder \n",
    "\n",
    "Autoencoder serve para fazer uma reconstrução dos inputs sejam imagens ou dados estruturados mesmo. \n"
   ]
  },
  {
   "cell_type": "markdown",
   "metadata": {},
   "source": [
    "[ Visualmente um autoencoder ](https://www.deeplearningbook.com.br/wp-content/uploads/2019/11/mushroom_encoder.png)"
   ]
  },
  {
   "cell_type": "code",
   "execution_count": 12,
   "metadata": {},
   "outputs": [],
   "source": [
    "input_dim = X_train.shape[1]\n",
    "encoding_dim = 16\n",
    "input_layer = Input(shape=(input_dim, ))\n",
    "encoder = Dense(encoding_dim, activation=\"tanh\", \n",
    "                activity_regularizer=regularizers.l1(1e-7))(input_layer)\n",
    "encoder = Dropout(0.2)(encoder)\n",
    "encoder = Dense(int(encoding_dim / 2), activation=\"relu\")(encoder)\n",
    "encoder = Dense(4, activation=tf.nn.leaky_relu)(encoder)\n",
    "decoder = Dense(int(encoding_dim / 2), activation='tanh')(encoder)\n",
    "decoder = Dropout(0.2)(decoder)\n",
    "decoder = Dense(encoding_dim, activation= 'relu')(decoder)\n",
    "decoder = Dense(input_dim, activation='tanh')(decoder)\n",
    "autoencoder = Model(inputs=input_layer, outputs=decoder)\n",
    "autoencoder.compile(optimizer='adam', \n",
    "                    loss='mean_squared_error', \n",
    "                    metrics=['accuracy'])"
   ]
  },
  {
   "cell_type": "code",
   "execution_count": 13,
   "metadata": {},
   "outputs": [
    {
     "name": "stdout",
     "output_type": "stream",
     "text": [
      "Epoch 1/50\n",
      "1333/1333 [==============================] - 9s 6ms/step - loss: 0.8682 - accuracy: 0.3474 - val_loss: 0.8284 - val_accuracy: 0.4183\n",
      "Epoch 2/50\n",
      "1333/1333 [==============================] - 7s 5ms/step - loss: 0.7852 - accuracy: 0.4105 - val_loss: 0.7924 - val_accuracy: 0.4482\n",
      "Epoch 3/50\n",
      "1333/1333 [==============================] - 4s 3ms/step - loss: 0.7652 - accuracy: 0.4267 - val_loss: 0.7761 - val_accuracy: 0.4546\n",
      "Epoch 4/50\n",
      "1333/1333 [==============================] - 4s 3ms/step - loss: 0.7537 - accuracy: 0.4326 - val_loss: 0.7660 - val_accuracy: 0.4609\n",
      "Epoch 5/50\n",
      "1333/1333 [==============================] - 4s 3ms/step - loss: 0.7453 - accuracy: 0.4394 - val_loss: 0.7538 - val_accuracy: 0.4776\n",
      "Epoch 6/50\n",
      "1333/1333 [==============================] - 4s 3ms/step - loss: 0.7361 - accuracy: 0.4469 - val_loss: 0.7422 - val_accuracy: 0.4765\n",
      "Epoch 7/50\n",
      "1333/1333 [==============================] - 4s 3ms/step - loss: 0.7279 - accuracy: 0.4468 - val_loss: 0.7330 - val_accuracy: 0.4756\n",
      "Epoch 8/50\n",
      "1333/1333 [==============================] - 4s 3ms/step - loss: 0.7216 - accuracy: 0.4456 - val_loss: 0.7263 - val_accuracy: 0.4874\n",
      "Epoch 9/50\n",
      "1333/1333 [==============================] - 4s 3ms/step - loss: 0.7174 - accuracy: 0.4439 - val_loss: 0.7219 - val_accuracy: 0.4878\n",
      "Epoch 10/50\n",
      "1333/1333 [==============================] - 4s 3ms/step - loss: 0.7134 - accuracy: 0.4342 - val_loss: 0.7201 - val_accuracy: 0.4678\n",
      "Epoch 11/50\n",
      "1333/1333 [==============================] - 4s 3ms/step - loss: 0.7103 - accuracy: 0.4238 - val_loss: 0.7165 - val_accuracy: 0.4533\n",
      "Epoch 12/50\n",
      "1333/1333 [==============================] - 4s 3ms/step - loss: 0.7077 - accuracy: 0.4203 - val_loss: 0.7143 - val_accuracy: 0.4488\n",
      "Epoch 13/50\n",
      "1333/1333 [==============================] - 4s 3ms/step - loss: 0.7055 - accuracy: 0.4170 - val_loss: 0.7114 - val_accuracy: 0.4365\n",
      "Epoch 14/50\n",
      "1333/1333 [==============================] - 4s 3ms/step - loss: 0.7036 - accuracy: 0.4136 - val_loss: 0.7124 - val_accuracy: 0.4435\n",
      "Epoch 15/50\n",
      "1333/1333 [==============================] - 4s 3ms/step - loss: 0.7028 - accuracy: 0.4110 - val_loss: 0.7101 - val_accuracy: 0.4343\n",
      "Epoch 16/50\n",
      "1333/1333 [==============================] - 4s 3ms/step - loss: 0.7023 - accuracy: 0.4082 - val_loss: 0.7092 - val_accuracy: 0.4179\n",
      "Epoch 17/50\n",
      "1333/1333 [==============================] - 4s 3ms/step - loss: 0.7015 - accuracy: 0.4063 - val_loss: 0.7097 - val_accuracy: 0.4121\n",
      "Epoch 18/50\n",
      "1333/1333 [==============================] - 4s 3ms/step - loss: 0.7007 - accuracy: 0.4058 - val_loss: 0.7088 - val_accuracy: 0.4164\n",
      "Epoch 19/50\n",
      "1333/1333 [==============================] - 4s 3ms/step - loss: 0.7000 - accuracy: 0.4048 - val_loss: 0.7076 - val_accuracy: 0.4275\n",
      "Epoch 20/50\n",
      "1333/1333 [==============================] - 4s 3ms/step - loss: 0.6991 - accuracy: 0.4038 - val_loss: 0.7090 - val_accuracy: 0.4286\n",
      "Epoch 21/50\n",
      "1333/1333 [==============================] - 4s 3ms/step - loss: 0.6992 - accuracy: 0.4021 - val_loss: 0.7073 - val_accuracy: 0.4301\n",
      "Epoch 22/50\n",
      "1333/1333 [==============================] - 3s 2ms/step - loss: 0.6989 - accuracy: 0.4034 - val_loss: 0.7062 - val_accuracy: 0.4261\n",
      "Epoch 23/50\n",
      "1333/1333 [==============================] - 3s 2ms/step - loss: 0.6978 - accuracy: 0.4010 - val_loss: 0.7069 - val_accuracy: 0.4137\n",
      "Epoch 24/50\n",
      "1333/1333 [==============================] - 4s 3ms/step - loss: 0.6977 - accuracy: 0.4017 - val_loss: 0.7066 - val_accuracy: 0.4195\n",
      "Epoch 25/50\n",
      "1333/1333 [==============================] - 4s 3ms/step - loss: 0.6972 - accuracy: 0.4013 - val_loss: 0.7061 - val_accuracy: 0.4321\n",
      "Epoch 26/50\n",
      "1333/1333 [==============================] - 4s 3ms/step - loss: 0.6971 - accuracy: 0.4006 - val_loss: 0.7080 - val_accuracy: 0.4344\n",
      "Epoch 27/50\n",
      "1333/1333 [==============================] - 4s 3ms/step - loss: 0.6967 - accuracy: 0.4024 - val_loss: 0.7050 - val_accuracy: 0.4284\n",
      "Epoch 28/50\n",
      "1333/1333 [==============================] - 4s 3ms/step - loss: 0.6964 - accuracy: 0.4000 - val_loss: 0.7052 - val_accuracy: 0.4189\n",
      "Epoch 29/50\n",
      "1333/1333 [==============================] - 4s 3ms/step - loss: 0.6966 - accuracy: 0.4011 - val_loss: 0.7072 - val_accuracy: 0.4242\n",
      "Epoch 30/50\n",
      "1333/1333 [==============================] - 3s 3ms/step - loss: 0.6966 - accuracy: 0.3991 - val_loss: 0.7039 - val_accuracy: 0.4242\n",
      "Epoch 31/50\n",
      "1333/1333 [==============================] - 3s 3ms/step - loss: 0.6960 - accuracy: 0.3979 - val_loss: 0.7057 - val_accuracy: 0.4229\n",
      "Epoch 32/50\n",
      "1333/1333 [==============================] - 3s 2ms/step - loss: 0.6959 - accuracy: 0.3979 - val_loss: 0.7036 - val_accuracy: 0.4199\n",
      "Epoch 33/50\n",
      "1333/1333 [==============================] - 3s 2ms/step - loss: 0.6952 - accuracy: 0.3983 - val_loss: 0.7052 - val_accuracy: 0.4185\n",
      "Epoch 34/50\n",
      "1333/1333 [==============================] - 4s 3ms/step - loss: 0.6950 - accuracy: 0.3987 - val_loss: 0.7038 - val_accuracy: 0.4310\n",
      "Epoch 35/50\n",
      "1333/1333 [==============================] - 3s 2ms/step - loss: 0.6947 - accuracy: 0.3990 - val_loss: 0.7018 - val_accuracy: 0.4263\n",
      "Epoch 36/50\n",
      "1333/1333 [==============================] - 3s 2ms/step - loss: 0.6951 - accuracy: 0.3977 - val_loss: 0.7025 - val_accuracy: 0.4161\n",
      "Epoch 37/50\n",
      "1333/1333 [==============================] - 4s 3ms/step - loss: 0.6952 - accuracy: 0.3986 - val_loss: 0.7032 - val_accuracy: 0.4341\n",
      "Epoch 38/50\n",
      "1333/1333 [==============================] - 3s 2ms/step - loss: 0.6946 - accuracy: 0.3974 - val_loss: 0.7063 - val_accuracy: 0.4197\n",
      "Epoch 39/50\n",
      "1333/1333 [==============================] - 3s 2ms/step - loss: 0.6949 - accuracy: 0.3985 - val_loss: 0.7041 - val_accuracy: 0.4273\n",
      "Epoch 40/50\n",
      "1333/1333 [==============================] - 3s 2ms/step - loss: 0.6945 - accuracy: 0.3978 - val_loss: 0.7033 - val_accuracy: 0.4130\n",
      "Epoch 41/50\n",
      "1333/1333 [==============================] - 3s 2ms/step - loss: 0.6940 - accuracy: 0.3968 - val_loss: 0.7024 - val_accuracy: 0.4191\n",
      "Epoch 42/50\n",
      "1333/1333 [==============================] - 4s 3ms/step - loss: 0.6942 - accuracy: 0.3957 - val_loss: 0.7038 - val_accuracy: 0.4095\n",
      "Epoch 43/50\n",
      "1318/1333 [============================>.] - ETA: 0s - loss: 0.6938 - accuracy: 0.3951Restoring model weights from the end of the best epoch: 35.\n",
      "1333/1333 [==============================] - 3s 2ms/step - loss: 0.6938 - accuracy: 0.3952 - val_loss: 0.7031 - val_accuracy: 0.4173\n",
      "Epoch 43: early stopping\n"
     ]
    }
   ],
   "source": [
    "nb_epoch = 50\n",
    "batch_size = 128\n",
    "checkpointer =ModelCheckpoint(filepath=\"autoencoder_fraud.h5\",\n",
    "                               mode='min', monitor='val_loss',\n",
    "                               save_best_only=True)\n",
    "tensorboard = TensorBoard(log_dir='./logs',\n",
    "                          histogram_freq=0,\n",
    "                          write_graph=True,\n",
    "                          write_images=True)\n",
    "early_stop = EarlyStopping(\n",
    "    monitor='val_loss',\n",
    "    min_delta=0.0001,\n",
    "    patience=8,\n",
    "    verbose=1, \n",
    "    mode='min',\n",
    "    restore_best_weights=True)\n",
    "\n",
    "history = autoencoder.fit(X_train, X_train,\n",
    "                    epochs=nb_epoch,\n",
    "                    batch_size=batch_size,\n",
    "                    shuffle=True,\n",
    "                    validation_data=(X_test, X_test),\n",
    "                    verbose=1,\n",
    "                    callbacks=[checkpointer, tensorboard, early_stop]).history"
   ]
  },
  {
   "cell_type": "markdown",
   "metadata": {},
   "source": [
    "Quanto maior a função de perda, maior a chance de ser uma anomalia, no nosso caso, de fraude "
   ]
  },
  {
   "cell_type": "code",
   "execution_count": 14,
   "metadata": {},
   "outputs": [
    {
     "data": {
      "text/plain": [
       "<matplotlib.legend.Legend at 0x26fe2f6e940>"
      ]
     },
     "execution_count": 14,
     "metadata": {},
     "output_type": "execute_result"
    },
    {
     "data": {
      "image/png": "[encoded data removed]",
      "text/plain": [
       "<Figure size 432x288 with 1 Axes>"
      ]
     },
     "metadata": {
      "needs_background": "light"
     },
     "output_type": "display_data"
    }
   ],
   "source": [
    "plt.plot(history['loss'])\n",
    "plt.plot(history['val_loss'])\n",
    "plt.title('model loss')\n",
    "plt.ylabel('loss')\n",
    "plt.xlabel('epoch')\n",
    "plt.legend(['train', 'test'], loc='upper right')"
   ]
  },
  {
   "cell_type": "code",
   "execution_count": 15,
   "metadata": {},
   "outputs": [
    {
     "data": {
      "text/html": [
       "<div>\n",
       "<style scoped>\n",
       "    .dataframe tbody tr th:only-of-type {\n",
       "        vertical-align: middle;\n",
       "    }\n",
       "\n",
       "    .dataframe tbody tr th {\n",
       "        vertical-align: top;\n",
       "    }\n",
       "\n",
       "    .dataframe thead th {\n",
       "        text-align: right;\n",
       "    }\n",
       "</style>\n",
       "<table border=\"1\" class=\"dataframe\">\n",
       "  <thead>\n",
       "    <tr style=\"text-align: right;\">\n",
       "      <th></th>\n",
       "      <th>reconstruction_error</th>\n",
       "      <th>true_class</th>\n",
       "    </tr>\n",
       "  </thead>\n",
       "  <tbody>\n",
       "    <tr>\n",
       "      <th>count</th>\n",
       "      <td>113923.000000</td>\n",
       "      <td>113923.000000</td>\n",
       "    </tr>\n",
       "    <tr>\n",
       "      <th>mean</th>\n",
       "      <td>0.701799</td>\n",
       "      <td>0.001606</td>\n",
       "    </tr>\n",
       "    <tr>\n",
       "      <th>std</th>\n",
       "      <td>6.741465</td>\n",
       "      <td>0.040047</td>\n",
       "    </tr>\n",
       "    <tr>\n",
       "      <th>min</th>\n",
       "      <td>0.021590</td>\n",
       "      <td>0.000000</td>\n",
       "    </tr>\n",
       "    <tr>\n",
       "      <th>25%</th>\n",
       "      <td>0.178842</td>\n",
       "      <td>0.000000</td>\n",
       "    </tr>\n",
       "    <tr>\n",
       "      <th>50%</th>\n",
       "      <td>0.295460</td>\n",
       "      <td>0.000000</td>\n",
       "    </tr>\n",
       "    <tr>\n",
       "      <th>75%</th>\n",
       "      <td>0.523417</td>\n",
       "      <td>0.000000</td>\n",
       "    </tr>\n",
       "    <tr>\n",
       "      <th>max</th>\n",
       "      <td>1841.714720</td>\n",
       "      <td>1.000000</td>\n",
       "    </tr>\n",
       "  </tbody>\n",
       "</table>\n",
       "</div>"
      ],
      "text/plain": [
       "       reconstruction_error     true_class\n",
       "count         113923.000000  113923.000000\n",
       "mean               0.701799       0.001606\n",
       "std                6.741465       0.040047\n",
       "min                0.021590       0.000000\n",
       "25%                0.178842       0.000000\n",
       "50%                0.295460       0.000000\n",
       "75%                0.523417       0.000000\n",
       "max             1841.714720       1.000000"
      ]
     },
     "execution_count": 15,
     "metadata": {},
     "output_type": "execute_result"
    }
   ],
   "source": [
    "predictions = autoencoder.predict(X_test)\n",
    "mse = np.mean(np.power(X_test - predictions, 2), axis=1)\n",
    "error_df = pd.DataFrame({'reconstruction_error': mse,\n",
    "                        'true_class': y_test})\n",
    "error_df.describe()"
   ]
  },
  {
   "cell_type": "code",
   "execution_count": 16,
   "metadata": {},
   "outputs": [
    {
     "name": "stdout",
     "output_type": "stream",
     "text": [
      "Threshold:  4.054005816932914\n"
     ]
    }
   ],
   "source": [
    "reconstructions = autoencoder.predict(X_train)\n",
    "train_loss = tf.keras.losses.mse(reconstructions, X_train)\n",
    "threshold = np.mean(train_loss) + np.std(train_loss)\n",
    "print(\"Threshold: \", threshold)\n"
   ]
  },
  {
   "cell_type": "code",
   "execution_count": 17,
   "metadata": {},
   "outputs": [
    {
     "data": {
      "image/png": "[encoded data removed]",
      "text/plain": [
       "<Figure size 432x288 with 1 Axes>"
      ]
     },
     "metadata": {
      "needs_background": "light"
     },
     "output_type": "display_data"
    }
   ],
   "source": [
    "groups = error_df.groupby('true_class')\n",
    "fig, ax = plt.subplots()\n",
    "for name, group in groups:\n",
    "    ax.plot(group.index, group.reconstruction_error, marker='o', ms=3.5, linestyle='',\n",
    "            label= \"Fraud\" if name == 1 else \"Normal\")\n",
    "ax.hlines(threshold, ax.get_xlim()[0], ax.get_xlim()[1], colors=\"r\", zorder=100, label='Threshold')\n",
    "ax.legend()\n",
    "plt.title(\"Reconstruction error for different classes\")\n",
    "plt.ylabel(\"Reconstruction error\")\n",
    "plt.xlabel(\"Data point index\")\n",
    "plt.show()"
   ]
  },
  {
   "cell_type": "code",
   "execution_count": 18,
   "metadata": {},
   "outputs": [
    {
     "name": "stdout",
     "output_type": "stream",
     "text": [
      "Accuracy:  0.9835502927415887\n",
      "\n",
      "Precission: 0.07233181588265047\n",
      "\n",
      "Confusion Matrix:\n"
     ]
    },
    {
     "data": {
      "image/png": "[encoded data removed]",
      "text/plain": [
       "<Figure size 432x288 with 2 Axes>"
      ]
     },
     "metadata": {
      "needs_background": "light"
     },
     "output_type": "display_data"
    }
   ],
   "source": [
    "y_pred = [1 if e > threshold else 0 for e in error_df.reconstruction_error.values]\n",
    "mostra_metricas(error_df.true_class, y_pred)"
   ]
  },
  {
   "cell_type": "markdown",
   "metadata": {},
   "source": [
    "### Conclusões\n",
    "Vimos que o melhor modelo foi a Floresta Aleatória, ja que obteve melhor precisão e acurácia. Além disso, vemos que o autoencoder trouxe uma grande quantidade de falsos-positivos, o que não queremos. "
   ]
  }
 ],
 "metadata": {
  "interpreter": {
   "hash": "ad2bdc8ecc057115af97d19610ffacc2b4e99fae6737bb82f5d7fb13d2f2c186"
  },
  "kernelspec": {
   "display_name": "Python 3.9.7 ('base')",
   "language": "python",
   "name": "python3"
  },
  "language_info": {
   "codemirror_mode": {
    "name": "ipython",
    "version": 3
   },
   "file_extension": ".py",
   "mimetype": "text/x-python",
   "name": "python",
   "nbconvert_exporter": "python",
   "pygments_lexer": "ipython3",
   "version": "3.9.7"
  },
  "orig_nbformat": 4
 },
 "nbformat": 4,
 "nbformat_minor": 2
}
